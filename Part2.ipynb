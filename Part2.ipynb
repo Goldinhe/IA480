{
 "cells": [
  {
   "cell_type": "markdown",
   "id": "a7f7f8f4-d37f-4886-ad2f-9a1d9661bd1b",
   "metadata": {},
   "source": [
    "# Analyzing Data and Interpreting Images with OpenAI's o1 Reasoning Model vs. GPT"
   ]
  },
  {
   "cell_type": "markdown",
   "id": "271a830d-95fd-4bb0-8156-f4ce5ee41f95",
   "metadata": {},
   "source": [
    "## Introduction\n",
    "OpenAI's o1 reasoning model is designed for complex problem-solving, data analysis, and image interpretation by simulating a multi-step thought process before generating responses. Unlike traditional GPT models, which produce output in a single pass, reasoning models use internal **reasoning tokens** to explore multiple approaches before finalizing an answer.\n",
    "<p align=\"center\">\n",
    "    <img src=\"https://cdn.openai.com/API/images/guides/reasoning_tokens.png\" alt=\"Reasoning Tokens\" width=\"600\">\n",
    "</p>  \n",
    "\n",
    "*Source: [OpenAI Reasoning Models Guide](https://platform.openai.com/docs/guides/reasoning)*\n",
    "\n",
    "**Key Differences: o1 Reasoning Model vs. GPT**\n",
    "- Multi-step reasoning: o1 evaluates different solutions before selecting the best response.\n",
    "- Deeper analytical capabilities: Optimized for complex data interpretation tasks.\n",
    "- Context-aware image analysis: Provides more structured and insightful image descriptions.\n",
    "- Reasoning Effort Control: Users can adjust the depth of reasoning (`low`, `medium`, `high`).\n",
    "\n",
    "\n",
    "For more details, refer to the [OpenAI Reasoning Models Guide](https://platform.openai.com/docs/guides/reasoning).\n"
   ]
  },
  {
   "cell_type": "markdown",
   "id": "aaa19529-a6a5-486b-802e-ddfb39fb85f1",
   "metadata": {},
   "source": [
    "## Purchase and Store API Key\n",
    "\n",
    "You need to **purchase** your [OpenAI](https://openai.com/) API key and store it securely, such as in **AWS Secrets Manager**.\n",
    "\n",
    "- **Key Name:** `api_key`  \n",
    "- **Key Value:** `<your OpenAI API key>`  \n",
    "- **Secret Name:** `openai`  "
   ]
  },
  {
   "cell_type": "markdown",
   "id": "5a126d9e-1487-4905-8cc0-5d55d1a06594",
   "metadata": {},
   "source": [
    "## Install Python Libraries\n",
    "\n",
    "- **openai**: Used to call `o1` and `GPT` models for data analysis and image interpretation."
   ]
  },
  {
   "cell_type": "code",
   "execution_count": 1,
   "id": "7f05dcb1-dab0-4a06-bf2b-c695a8d19d6d",
   "metadata": {},
   "outputs": [
    {
     "name": "stdout",
     "output_type": "stream",
     "text": [
      "Note: you may need to restart the kernel to use updated packages.\n"
     ]
    }
   ],
   "source": [
    "pip install openai -q"
   ]
  },
  {
   "cell_type": "markdown",
   "id": "ca255da8-7177-49e6-bff7-27501305b4f6",
   "metadata": {},
   "source": [
    "## Import Required Libraries\n",
    "\n",
    "The following libraries are used in this notebook:\n",
    "\n",
    "- **boto3**: AWS SDK for Python, used to interact with AWS services.\n",
    "- **json**: Standard Python library for handling JSON data.\n",
    "- **IPython.display**: Provides tools to display images, Markdown content, and other rich media in Jupyter Notebook.\n",
    "- **openai**: Used to call `o1` and `GPT` models for data analysis and image interpretation.\n",
    "- **pandas**: A powerful library for data manipulation and analysis.\n",
    "- **pprint**: Pretty prints data structures for better readability."
   ]
  },
  {
   "cell_type": "code",
   "execution_count": 2,
   "id": "5db0d630-749f-484e-8d01-79ec39e0e56e",
   "metadata": {
    "scrolled": true
   },
   "outputs": [],
   "source": [
    "import boto3\n",
    "import json\n",
    "from IPython.display import display, Image, Markdown\n",
    "from openai import OpenAI\n",
    "import pandas as pd\n",
    "from pprint import pprint"
   ]
  },
  {
   "cell_type": "markdown",
   "id": "ddd547f9-8c03-4673-a194-e71e01b38a3d",
   "metadata": {},
   "source": [
    "## Retrieve API Keys Securely from AWS Secrets Manager\n",
    "\n",
    "The following function, `get_secret()`, retrieves a secret from **AWS Secrets Manager**. This is a secure way to store and access sensitive credentials, such as API keys, without hardcoding them into the script"
   ]
  },
  {
   "cell_type": "code",
   "execution_count": 3,
   "id": "7fd3f543-0716-483c-88ce-b41f5fb418cb",
   "metadata": {},
   "outputs": [],
   "source": [
    "def get_secret(secret_name):\n",
    "    region_name = \"us-east-1\"\n",
    "\n",
    "    # Create a Secrets Manager client\n",
    "    session = boto3.session.Session()\n",
    "    client = session.client(\n",
    "        service_name='secretsmanager',\n",
    "        region_name=region_name\n",
    "    )\n",
    "\n",
    "    try:\n",
    "        get_secret_value_response = client.get_secret_value(\n",
    "            SecretId=secret_name\n",
    "        )\n",
    "    except ClientError as e:\n",
    "        raise e\n",
    "\n",
    "    secret = get_secret_value_response['SecretString']\n",
    "    \n",
    "    return json.loads(secret)"
   ]
  },
  {
   "cell_type": "markdown",
   "id": "e5711939-503e-44f6-bb28-0671c1131e26",
   "metadata": {},
   "source": [
    "## Initialize OpenAI Client\n",
    "\n",
    "The following code initializes the OpenAI client using a securely stored API key retrieved from AWS Secrets Manager."
   ]
  },
  {
   "cell_type": "code",
   "execution_count": 4,
   "id": "921be4e1-921f-4c84-b68d-fc72b435cc3a",
   "metadata": {
    "scrolled": true
   },
   "outputs": [],
   "source": [
    "client = OpenAI(api_key= get_secret('openai')['api_key'])"
   ]
  },
  {
   "cell_type": "markdown",
   "id": "860098d7-cfcc-4791-9b42-c526f8ff620a",
   "metadata": {},
   "source": [
    "## Load and Analyze the Diamonds Dataset\n",
    "\n",
    "This notebook uses the **diamonds dataset ([diamonds.csv](https://github.com/lbsocial/data-analysis-with-generative-ai/blob/main/diamonds.csv))**, which contains detailed attributes of diamonds, including weight, color, clarity, and price.\n",
    "\n",
    "One interesting pattern in the dataset is that **diamonds with \"IF\" (Internally Flawless) clarity tend to have the lowest average price** compared to other clarity grades. This observation is counterintuitive, as one might expect the highest-clarity diamonds to be the most expensive."
   ]
  },
  {
   "cell_type": "code",
   "execution_count": 6,
   "id": "ebef8c09-e485-4bea-b86b-275cce615b63",
   "metadata": {},
   "outputs": [
    {
     "data": {
      "text/html": [
       "<div>\n",
       "<style scoped>\n",
       "    .dataframe tbody tr th:only-of-type {\n",
       "        vertical-align: middle;\n",
       "    }\n",
       "\n",
       "    .dataframe tbody tr th {\n",
       "        vertical-align: top;\n",
       "    }\n",
       "\n",
       "    .dataframe thead th {\n",
       "        text-align: right;\n",
       "    }\n",
       "</style>\n",
       "<table border=\"1\" class=\"dataframe\">\n",
       "  <thead>\n",
       "    <tr style=\"text-align: right;\">\n",
       "      <th></th>\n",
       "      <th>Use Case ID/Name</th>\n",
       "      <th>Mission Area</th>\n",
       "      <th>Agency</th>\n",
       "      <th>Bureau/Component/Office</th>\n",
       "      <th>Topic Area</th>\n",
       "      <th>Intended purpose and expected benefits of use case</th>\n",
       "      <th>Description of AI system's outputs</th>\n",
       "      <th>Current stage of development</th>\n",
       "      <th>Rights-impacting or Safety-impacting</th>\n",
       "      <th>Date Initiated</th>\n",
       "      <th>Development/Acquisition Date</th>\n",
       "      <th>Date Implemented</th>\n",
       "      <th>Date Retired</th>\n",
       "      <th>Open-source link to project code (if available)</th>\n",
       "      <th>Supporting a High Impact Service Provider (HISP)</th>\n",
       "      <th>If yes to supporting a HISP, which one?</th>\n",
       "      <th>Public-facing service in HISP</th>\n",
       "      <th>Developed under contract(s) or in-house</th>\n",
       "      <th>Agency-owned Data Description</th>\n",
       "      <th>Demographic variables used in model features</th>\n",
       "    </tr>\n",
       "  </thead>\n",
       "  <tbody>\n",
       "    <tr>\n",
       "      <th>0</th>\n",
       "      <td>USDA-001: Repair Spend</td>\n",
       "      <td>REE: Research, Education, and Economics</td>\n",
       "      <td>ARS: Agricultural Research Service</td>\n",
       "      <td>Administrative and Financial Management</td>\n",
       "      <td>Mission-Enabling (Internal Agency Support)</td>\n",
       "      <td>The intended purpose of this model is to revie...</td>\n",
       "      <td>The output of the model is a recommendation of...</td>\n",
       "      <td>Stage 4 - Operation and Maintenance (Use case ...</td>\n",
       "      <td>Neither</td>\n",
       "      <td>10/1/2019</td>\n",
       "      <td>10/1/2019</td>\n",
       "      <td>6/9/2020</td>\n",
       "      <td>NaN</td>\n",
       "      <td>NaN</td>\n",
       "      <td>No</td>\n",
       "      <td>NaN</td>\n",
       "      <td>NaN</td>\n",
       "      <td>Developed with both contracting and in-house r...</td>\n",
       "      <td>Approximately 14,000 financial transactions we...</td>\n",
       "      <td>None;</td>\n",
       "    </tr>\n",
       "    <tr>\n",
       "      <th>1</th>\n",
       "      <td>USDA-002: ARS Project Mapping</td>\n",
       "      <td>REE: Research, Education, and Economics</td>\n",
       "      <td>ARS: Agricultural Research Service</td>\n",
       "      <td>Office of National Programs</td>\n",
       "      <td>Science &amp; Space</td>\n",
       "      <td>The intended purpose of this model is to proce...</td>\n",
       "      <td>The model outputs groups of similar projects a...</td>\n",
       "      <td>Stage 4 - Operation and Maintenance (Use case ...</td>\n",
       "      <td>Neither</td>\n",
       "      <td>1/1/2020</td>\n",
       "      <td>1/1/2021</td>\n",
       "      <td>5/1/2022</td>\n",
       "      <td>NaN</td>\n",
       "      <td>NaN</td>\n",
       "      <td>No</td>\n",
       "      <td>NaN</td>\n",
       "      <td>NaN</td>\n",
       "      <td>Developed with contracting resources</td>\n",
       "      <td>The data is a collection of project plans writ...</td>\n",
       "      <td>None;</td>\n",
       "    </tr>\n",
       "    <tr>\n",
       "      <th>2</th>\n",
       "      <td>USDA-003: NAL Automated Indexing</td>\n",
       "      <td>REE: Research, Education, and Economics</td>\n",
       "      <td>ARS: Agricultural Research Service</td>\n",
       "      <td>National Agricultural Library</td>\n",
       "      <td>Science &amp; Space</td>\n",
       "      <td>This system automatically assigns word tags to...</td>\n",
       "      <td>The model outputs terms to use as search tags ...</td>\n",
       "      <td>Stage 4 - Operation and Maintenance (Use case ...</td>\n",
       "      <td>Neither</td>\n",
       "      <td>6/1/2011</td>\n",
       "      <td>1/1/2012</td>\n",
       "      <td>6/1/2012</td>\n",
       "      <td>NaN</td>\n",
       "      <td>NaN</td>\n",
       "      <td>No</td>\n",
       "      <td>NaN</td>\n",
       "      <td>NaN</td>\n",
       "      <td>Developed with both contracting and in-house r...</td>\n",
       "      <td>The data is a collection of text scripts from ...</td>\n",
       "      <td>None;</td>\n",
       "    </tr>\n",
       "    <tr>\n",
       "      <th>3</th>\n",
       "      <td>USDA-004: Predictive Modeling of Invasive Pest...</td>\n",
       "      <td>MRP: Marketing and Regulatory Programs</td>\n",
       "      <td>APHIS: Animal and Plant Health Inspection Service</td>\n",
       "      <td>Plant Protection and Quarantine</td>\n",
       "      <td>Mission-Enabling (Internal Agency Support)</td>\n",
       "      <td>The purpose of the model is to check how likel...</td>\n",
       "      <td>The model outputs are a prediction of whether ...</td>\n",
       "      <td>Stage 4 - Operation and Maintenance (Use case ...</td>\n",
       "      <td>Neither</td>\n",
       "      <td>7/1/2015</td>\n",
       "      <td>7/1/2015</td>\n",
       "      <td>5/1/2018</td>\n",
       "      <td>NaN</td>\n",
       "      <td>NaN</td>\n",
       "      <td>No</td>\n",
       "      <td>NaN</td>\n",
       "      <td>NaN</td>\n",
       "      <td>Developed in-house</td>\n",
       "      <td>Inspection data was collected from Plant Prote...</td>\n",
       "      <td>None;</td>\n",
       "    </tr>\n",
       "    <tr>\n",
       "      <th>4</th>\n",
       "      <td>USDA-005: Detection of Pre-symptomatic HLB Inf...</td>\n",
       "      <td>MRP: Marketing and Regulatory Programs</td>\n",
       "      <td>APHIS: Animal and Plant Health Inspection Service</td>\n",
       "      <td>Plant Protection and Quarantine</td>\n",
       "      <td>Science &amp; Space</td>\n",
       "      <td>The purpose of the model is to detect citrus t...</td>\n",
       "      <td>The model outputs GPS Coordinates of potential...</td>\n",
       "      <td>Stage 5 - Retired (Use case has been retired o...</td>\n",
       "      <td>Neither</td>\n",
       "      <td>NaN</td>\n",
       "      <td>NaN</td>\n",
       "      <td>NaN</td>\n",
       "      <td>9/30/2022</td>\n",
       "      <td>NaN</td>\n",
       "      <td>NaN</td>\n",
       "      <td>NaN</td>\n",
       "      <td>NaN</td>\n",
       "      <td>NaN</td>\n",
       "      <td>No agency-owned data used in this project.</td>\n",
       "      <td>NaN</td>\n",
       "    </tr>\n",
       "  </tbody>\n",
       "</table>\n",
       "</div>"
      ],
      "text/plain": [
       "                                    Use Case ID/Name  \\\n",
       "0                             USDA-001: Repair Spend   \n",
       "1                     USDA-002: ARS Project Mapping    \n",
       "2                   USDA-003: NAL Automated Indexing   \n",
       "3  USDA-004: Predictive Modeling of Invasive Pest...   \n",
       "4  USDA-005: Detection of Pre-symptomatic HLB Inf...   \n",
       "\n",
       "                              Mission Area  \\\n",
       "0  REE: Research, Education, and Economics   \n",
       "1  REE: Research, Education, and Economics   \n",
       "2  REE: Research, Education, and Economics   \n",
       "3   MRP: Marketing and Regulatory Programs   \n",
       "4   MRP: Marketing and Regulatory Programs   \n",
       "\n",
       "                                              Agency  \\\n",
       "0                 ARS: Agricultural Research Service   \n",
       "1                 ARS: Agricultural Research Service   \n",
       "2                 ARS: Agricultural Research Service   \n",
       "3  APHIS: Animal and Plant Health Inspection Service   \n",
       "4  APHIS: Animal and Plant Health Inspection Service   \n",
       "\n",
       "                   Bureau/Component/Office  \\\n",
       "0  Administrative and Financial Management   \n",
       "1              Office of National Programs   \n",
       "2            National Agricultural Library   \n",
       "3          Plant Protection and Quarantine   \n",
       "4          Plant Protection and Quarantine   \n",
       "\n",
       "                                   Topic Area  \\\n",
       "0  Mission-Enabling (Internal Agency Support)   \n",
       "1                             Science & Space   \n",
       "2                             Science & Space   \n",
       "3  Mission-Enabling (Internal Agency Support)   \n",
       "4                             Science & Space   \n",
       "\n",
       "  Intended purpose and expected benefits of use case  \\\n",
       "0  The intended purpose of this model is to revie...   \n",
       "1  The intended purpose of this model is to proce...   \n",
       "2  This system automatically assigns word tags to...   \n",
       "3  The purpose of the model is to check how likel...   \n",
       "4  The purpose of the model is to detect citrus t...   \n",
       "\n",
       "                  Description of AI system's outputs  \\\n",
       "0  The output of the model is a recommendation of...   \n",
       "1  The model outputs groups of similar projects a...   \n",
       "2  The model outputs terms to use as search tags ...   \n",
       "3  The model outputs are a prediction of whether ...   \n",
       "4  The model outputs GPS Coordinates of potential...   \n",
       "\n",
       "                        Current stage of development  \\\n",
       "0  Stage 4 - Operation and Maintenance (Use case ...   \n",
       "1  Stage 4 - Operation and Maintenance (Use case ...   \n",
       "2  Stage 4 - Operation and Maintenance (Use case ...   \n",
       "3  Stage 4 - Operation and Maintenance (Use case ...   \n",
       "4  Stage 5 - Retired (Use case has been retired o...   \n",
       "\n",
       "  Rights-impacting or Safety-impacting Date Initiated  \\\n",
       "0                              Neither      10/1/2019   \n",
       "1                              Neither       1/1/2020   \n",
       "2                              Neither       6/1/2011   \n",
       "3                              Neither       7/1/2015   \n",
       "4                              Neither            NaN   \n",
       "\n",
       "  Development/Acquisition Date Date Implemented Date Retired  \\\n",
       "0                    10/1/2019         6/9/2020          NaN   \n",
       "1                     1/1/2021         5/1/2022          NaN   \n",
       "2                     1/1/2012         6/1/2012          NaN   \n",
       "3                     7/1/2015         5/1/2018          NaN   \n",
       "4                          NaN              NaN    9/30/2022   \n",
       "\n",
       "  Open-source link to project code (if available)  \\\n",
       "0                                             NaN   \n",
       "1                                             NaN   \n",
       "2                                             NaN   \n",
       "3                                             NaN   \n",
       "4                                             NaN   \n",
       "\n",
       "  Supporting a High Impact Service Provider (HISP)  \\\n",
       "0                                               No   \n",
       "1                                               No   \n",
       "2                                               No   \n",
       "3                                               No   \n",
       "4                                              NaN   \n",
       "\n",
       "  If yes to supporting a HISP, which one? Public-facing service in HISP  \\\n",
       "0                                     NaN                           NaN   \n",
       "1                                     NaN                           NaN   \n",
       "2                                     NaN                           NaN   \n",
       "3                                     NaN                           NaN   \n",
       "4                                     NaN                           NaN   \n",
       "\n",
       "             Developed under contract(s) or in-house  \\\n",
       "0  Developed with both contracting and in-house r...   \n",
       "1               Developed with contracting resources   \n",
       "2  Developed with both contracting and in-house r...   \n",
       "3                                 Developed in-house   \n",
       "4                                                NaN   \n",
       "\n",
       "                       Agency-owned Data Description  \\\n",
       "0  Approximately 14,000 financial transactions we...   \n",
       "1  The data is a collection of project plans writ...   \n",
       "2  The data is a collection of text scripts from ...   \n",
       "3  Inspection data was collected from Plant Prote...   \n",
       "4         No agency-owned data used in this project.   \n",
       "\n",
       "  Demographic variables used in model features  \n",
       "0                                        None;  \n",
       "1                                        None;  \n",
       "2                                        None;  \n",
       "3                                        None;  \n",
       "4                                          NaN  "
      ]
     },
     "execution_count": 6,
     "metadata": {},
     "output_type": "execute_result"
    }
   ],
   "source": [
    "df = pd.read_csv('ai_inventory.csv')\n",
    "data_json = df.to_json(orient=\"records\")\n",
    "df.head()"
   ]
  },
  {
   "cell_type": "markdown",
   "id": "44df8274-f532-4103-9b8a-a882aa23eb86",
   "metadata": {},
   "source": [
    "## Generate Data Analysis Prompt for OpenAI Model\n",
    "\n",
    "To investigate why diamonds with **IF (Internally Flawless) clarity** have the **lowest average price**, we generate a structured prompt for the OpenAI model. The model will analyze the dataset and generate insights, including **Python code for visualizations**.\n"
   ]
  },
  {
   "cell_type": "code",
   "execution_count": 15,
   "id": "09d7ac96-aef2-425c-91ae-6b004a3ccce3",
   "metadata": {},
   "outputs": [],
   "source": [
    "data_prompt = f\"Identify risk management strategies used by agencies. Data: {data_json}\"\n",
    "# print(data_prompt) "
   ]
  },
  {
   "cell_type": "markdown",
   "id": "0e269bba-2c1a-47e9-9662-3542873fa8ce",
   "metadata": {},
   "source": [
    "## Define a Function to Get Assistance from OpenAI GPT-4o\n",
    "\n",
    "The following function, `openai_gpt_help()`, sends a prompt to OpenAI's **GPT-4o model** and returns a response. It also prints the number of tokens used in the request."
   ]
  },
  {
   "cell_type": "code",
   "execution_count": 16,
   "id": "8a02a837-a5c0-409e-92ce-7ae93e58c834",
   "metadata": {},
   "outputs": [],
   "source": [
    "def openai_gpt_help(prompt):\n",
    "    messages = [{\"role\": \"user\", \"content\": prompt}]\n",
    "    response = client.chat.completions.create(\n",
    "        model='gpt-4o',\n",
    "        messages=messages,\n",
    "        temperature = 0\n",
    "    )\n",
    "    token_usage = response.usage\n",
    "    \n",
    "    pprint(f\"Tokens used: {token_usage}\")\n",
    "\n",
    "    return response.choices[0].message.content"
   ]
  },
  {
   "cell_type": "code",
   "execution_count": 17,
   "id": "df292b10-8857-4902-b2e4-8dab5602d204",
   "metadata": {},
   "outputs": [
    {
     "name": "stdout",
     "output_type": "stream",
     "text": [
      "('Tokens used: CompletionUsage(completion_tokens=497, prompt_tokens=30230, '\n",
      " 'total_tokens=30727, '\n",
      " 'completion_tokens_details=CompletionTokensDetails(accepted_prediction_tokens=0, '\n",
      " 'audio_tokens=0, reasoning_tokens=0, rejected_prediction_tokens=0), '\n",
      " 'prompt_tokens_details=PromptTokensDetails(audio_tokens=0, cached_tokens=0))')\n"
     ]
    }
   ],
   "source": [
    "gpt_result = openai_gpt_help(prompt=data_prompt)"
   ]
  },
  {
   "cell_type": "code",
   "execution_count": 18,
   "id": "1360e35d-3dda-4447-8b5e-f58d16ad91d3",
   "metadata": {},
   "outputs": [
    {
     "data": {
      "text/markdown": [
       "Risk management strategies used by agencies in the context of AI and data projects can be identified through various aspects of the project lifecycle and operational considerations. Here are some strategies inferred from the provided data:\n",
       "\n",
       "1. **Stage of Development Monitoring**: Projects are categorized into different stages of development, such as initiation, development and acquisition, implementation, operation and maintenance, and retirement. This helps in managing risks by ensuring that projects are adequately monitored and evaluated at each stage.\n",
       "\n",
       "2. **Rights and Safety Impact Assessment**: Projects are assessed for rights-impacting or safety-impacting implications. This helps in identifying and mitigating risks related to privacy, security, and safety.\n",
       "\n",
       "3. **Data Management and Validation**: Agencies use structured data management practices, including data validation and quality control, to ensure the accuracy and reliability of the data used in AI models. This reduces the risk of errors and biases in model outputs.\n",
       "\n",
       "4. **Development Resources**: Projects are developed using a combination of contracting and in-house resources. This strategy allows agencies to leverage external expertise while maintaining control over critical aspects of the project, thus managing risks related to resource availability and expertise.\n",
       "\n",
       "5. **Open-source and Proprietary Tools**: Some projects provide open-source links to project code, which can enhance transparency and allow for community feedback and improvements, reducing the risk of undetected errors or vulnerabilities.\n",
       "\n",
       "6. **Demographic Variables Consideration**: The use of demographic variables in model features is carefully considered, with many projects explicitly stating that no demographic variables are used. This helps in managing risks related to bias and discrimination.\n",
       "\n",
       "7. **Data Privacy and Security**: Projects often mention whether agency-owned data is used and whether it is publicly available. This helps in managing risks related to data privacy and security.\n",
       "\n",
       "8. **High Impact Service Provider (HISP) Support**: Some projects support high-impact service providers, which can help in aligning project goals with broader agency missions and managing risks related to project relevance and impact.\n",
       "\n",
       "9. **Retirement and Transition Planning**: Projects in the retirement stage indicate a planned transition or decommissioning process, which helps in managing risks related to legacy systems and ensuring continuity of operations.\n",
       "\n",
       "10. **Public and Stakeholder Engagement**: Some projects involve public-facing services or stakeholder engagement, which helps in managing risks related to public perception and acceptance of AI systems.\n",
       "\n",
       "These strategies collectively help agencies manage various risks associated with AI and data projects, including technical, operational, ethical, and legal risks."
      ],
      "text/plain": [
       "<IPython.core.display.Markdown object>"
      ]
     },
     "metadata": {},
     "output_type": "display_data"
    }
   ],
   "source": [
    "display(Markdown(gpt_result))"
   ]
  },
  {
   "cell_type": "markdown",
   "id": "c068efcc-c82a-40d8-8d5b-3939f2417a4e",
   "metadata": {},
   "source": [
    "## Define a Function to Get Assistance from OpenAI o1 Model  \n",
    "\n",
    "The following function, `openai_o_help()`, sends a prompt to OpenAI's **o1 reasoning model** and returns a response.  \n",
    "\n",
    "### Key Differences Between o1 and GPT Models:\n",
    "- **Reasoning Effort**: The o1 model allows users to control reasoning depth using `reasoning_effort` (`low`, `medium`, `high`).  \n",
    "- **No Temperature Parameter**: Unlike GPT models, **o1 does not support `temperature`**.  \n",
    "- **Developer Messages Replace System Messages**:  \n",
    "  - Starting with `o1-2024-12-17`, **developer messages** replace **system messages** to align with chain-of-command behavior.  \n",
    "\n",
    "### Best Practices for Prompting o1  \n",
    "- **Keep prompts simple and direct.**  \n",
    "- **Avoid chain-of-thought prompts.** o1 reasons internally, so step-by-step instructions aren't needed.  \n",
    "- **Use delimiters for clarity.** Use Markdown, XML tags, or section titles.  \n",
    "- **Try zero-shot first.** If needed, add few-shot examples that closely match your goal.  \n",
    "- **Be explicit.** Clearly define success criteria and constraints.  \n",
    "- **Markdown is disabled by default.** To enable, start with `\"Formatting re-enabled\"`.  \n",
    "\n",
    "Source: [OpenAI Reasoning Models Best Practices Guide](https://platform.openai.com/docs/guides/reasoning-best-practices).  \n"
   ]
  },
  {
   "cell_type": "code",
   "execution_count": 19,
   "id": "89f3d84b-b101-4299-b01a-ee4285c7608d",
   "metadata": {},
   "outputs": [],
   "source": [
    "def openai_o_help(prompt):\n",
    "    messages = [ {\"role\": \"user\", \"content\": prompt}]\n",
    "    response = client.chat.completions.create(\n",
    "        model='o1',\n",
    "        reasoning_effort=\"high\", # low, medium or high\n",
    "        messages=messages,\n",
    "\n",
    "    )\n",
    "    token_usage = response.usage\n",
    "    \n",
    "    pprint(f\"Tokens used: {token_usage}\")\n",
    "\n",
    "    return response.choices[0].message.content"
   ]
  },
  {
   "cell_type": "code",
   "execution_count": 20,
   "id": "c5fc9ef3-4510-4faf-995f-31a58134b9a5",
   "metadata": {},
   "outputs": [
    {
     "name": "stdout",
     "output_type": "stream",
     "text": [
      "('Tokens used: CompletionUsage(completion_tokens=2673, prompt_tokens=30229, '\n",
      " 'total_tokens=32902, '\n",
      " 'completion_tokens_details=CompletionTokensDetails(accepted_prediction_tokens=0, '\n",
      " 'audio_tokens=0, reasoning_tokens=1600, rejected_prediction_tokens=0), '\n",
      " 'prompt_tokens_details=PromptTokensDetails(audio_tokens=0, cached_tokens=0))')\n"
     ]
    }
   ],
   "source": [
    "o1_result = openai_o_help(prompt=data_prompt)"
   ]
  },
  {
   "cell_type": "code",
   "execution_count": 21,
   "id": "17ab95a7-ee31-49c7-b2ad-f77996be5e44",
   "metadata": {},
   "outputs": [
    {
     "name": "stdout",
     "output_type": "stream",
     "text": [
      "Below is a synthesis of the main risk management strategies that appear across USDA’s AI use cases, based on the information in the provided data. Although not every use case describes risk management steps explicitly, certain practices and patterns emerge repeatedly, forming the backbone of how agencies handle risk when developing and operating AI systems:\n",
      "\n",
      "1) Structured Development Lifecycle and Governance  \n",
      "   • Staged approach: Many projects are managed through defined “stages,” typically ranging from initiation (Stage 1) and development (Stage 2) to implementation (Stage 3), operation and maintenance (Stage 4), and final retirement (Stage 5). This phased progression helps teams identify and mitigate risks at each step—e.g., feasibility checks early on, security and performance testing at implementation, and continued monitoring in production.  \n",
      "   • Governance and oversight: Several references note that systems undergo functionality and security testing before launch. Systems in Stage 4 are “monitored for performance,” implying ongoing oversight to detect and mitigate issues that could harm data quality, public trust, or operations.\n",
      "\n",
      "2) Careful Management of Data Privacy and Security  \n",
      "   • Limited use of personal or demographic data: Most projects explicitly state that “None” or “No demographic variables used,” thereby reducing privacy risks. When demographic variables (e.g., Race/Ethnicity, Zipcode, Age, Veteran status) are used, they are narrowly scoped and clearly stated.  \n",
      "   • Restricting public release: Many datasets are described as “not publicly available” because they contain sensitive, confidential, or proprietary information (e.g., location data that identifies private property, or internal financial records). Restricting distribution reduces the likelihood of exposing sensitive information.  \n",
      "   • QA/QC (Quality Assurance and Quality Control): Multiple use cases emphasize that data undergo quality control by analysts before training or deployment. This ensures data accuracy, completeness, and consistency—key to mitigating risk of flawed outputs and subsequent misinformed decisions.\n",
      "\n",
      "3) Performance Monitoring and Model Validation  \n",
      "   • Ongoing monitoring in production: In Stage 4 projects, agencies “monitor performance” of AI models, watching for drift or reduced accuracy so that corrective actions can be taken quickly.  \n",
      "   • Testing and validation sets: Many AI initiatives document collecting separate test sets (e.g., dev/test splits), verifying that models perform as intended and identifying potential errors or bias before live use.  \n",
      "\n",
      "4) Retirement and Sunsetting Plans  \n",
      "   • Stage 5 – “Retired” or “in the process of being retired”: Several use cases explicitly note a retirement date. By formally sunsetting outmoded or redundant systems, agencies reduce exposure to security flaws, outdated models, or unmaintained infrastructure.  \n",
      "   • Documentation of retirement rationale: Listing the date retired or reason for retirement (e.g., no longer cost-effective or replaced by new technology) shows a deliberate strategy for mitigating ongoing risks associated with keeping an outdated system online.\n",
      "\n",
      "5) Access Controls and Minimizing Scope  \n",
      "   • Constrained data access: Some use cases describe locking down sensitive data or limiting data usage to internal portals or secure intranets (e.g., “Data is not publicly available,” “Restricted and encrypted due to personnel information”).  \n",
      "   • Avoiding unnecessary data collection: Many use cases reference only the minimal fields required for the model (e.g., NASS using only the farm operation variables or yield data). This “data minimization” principle lowers both operational and legal risk.\n",
      "\n",
      "6) Alignment with Laws and Regulatory Requirements  \n",
      "   • Rights-impacting systems: A small number of projects (e.g., facial recognition video surveillance; certain compliance tools) explicitly note they are “rights-impacting.” Highlighting this status suggests compliance with additional governance and review.  \n",
      "   • Use of authorized procurement channels: Multiple references to “Developed with contracting resources” or “Developed in-house” indicate that agencies keep a formal acquisition track, ensuring vendor compliance and contractual accountability.\n",
      "\n",
      "7) Quality Assurance in Model Outputs  \n",
      "   • Human-in-the-loop checks: Some use cases, especially those involving classification of outliers, text comments, or suspicious transactions, describe humans verifying the model’s outputs. This helps catch errors that automated processes might miss.  \n",
      "   • Incremental rollout or piloting: Although not always explicitly stated, the presence of pilot implementations or earlier stages (2 or 3) signals careful incremental testing before full-scale deployment.\n",
      "\n",
      "8) Protecting Confidential Stakeholder Information  \n",
      "   • Masking landowner details: Several projects note that raw coordinate data are withheld or anonymized to protect landowners.  \n",
      "   • Protecting personally identifiable data in records: Systems that process official forms (e.g., PDF document extraction) either do not store personal details or restrict them to authorized personnel only.\n",
      "\n",
      "Taken together, these practices constitute the core of USDA agencies’ risk management approaches in their AI work. They show up as careful governance structures (staged development, retirement plans), privacy-first data policies (minimal use of sensitive or demographic data), continuous validation and performance monitoring, and explicit consideration of rights-impacting use cases. All of these are designed to reduce exposure to technical failures, privacy breaches, and legal or reputational harm—thus helping ensure that AI solutions stay aligned with agency missions, stakeholder expectations, and regulatory guidelines.\n"
     ]
    }
   ],
   "source": [
    "print(o1_result)"
   ]
  }
 ],
 "metadata": {
  "kernelspec": {
   "display_name": "conda_python3",
   "language": "python",
   "name": "conda_python3"
  },
  "language_info": {
   "codemirror_mode": {
    "name": "ipython",
    "version": 3
   },
   "file_extension": ".py",
   "mimetype": "text/x-python",
   "name": "python",
   "nbconvert_exporter": "python",
   "pygments_lexer": "ipython3",
   "version": "3.10.16"
  }
 },
 "nbformat": 4,
 "nbformat_minor": 5
}